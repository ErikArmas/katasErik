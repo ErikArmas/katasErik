{
 "cells": [
  {
   "cell_type": "markdown",
   "metadata": {},
   "source": [
    "# Ejercicio 1: Uso de funciones en Python"
   ]
  },
  {
   "cell_type": "code",
   "execution_count": 12,
   "metadata": {},
   "outputs": [
    {
     "name": "stdout",
     "output_type": "stream",
     "text": [
      "\n",
      "        Average: 23.333333333333332\n",
      "\n",
      "        tank one: 15\n",
      "\n",
      "        tank two: 20\n",
      "\n",
      "        tank three: 35\n",
      "\n",
      "    \n"
     ]
    }
   ],
   "source": [
    "# Función promedio \n",
    "def average (tankOne,tankTwo,tankThree):\n",
    "    average_tank = (tankOne + tankTwo + tankThree) / 3\n",
    "    return average_tank\n",
    "\n",
    "# Función para leer 3 tanques de combustible y muestre el promedio\n",
    "\n",
    "def report (tankOne,tankTwo,tankThree):\n",
    "    message = f\"\"\"\n",
    "        Average: {average(tankOne,tankTwo,tankThree)}\\n\n",
    "        tank one: {tankOne}\\n\n",
    "        tank two: {tankTwo}\\n\n",
    "        tank three: {tankThree}\\n\n",
    "    \"\"\"\n",
    "    return message\n",
    "\n",
    "# Llamamos a la función que genera el reporte print(funcion(tanque1, tanque2, tanque3))\n",
    "print( report(15,20,35) )\n",
    "\n"
   ]
  },
  {
   "cell_type": "markdown",
   "metadata": {},
   "source": [
    "# Ejercicio 2: Trabajo con argumentos de palabra clave"
   ]
  },
  {
   "cell_type": "code",
   "execution_count": 13,
   "metadata": {},
   "outputs": [
    {
     "name": "stdout",
     "output_type": "stream",
     "text": [
      "\n",
      "        hora de prelanzamiento: 25\n",
      "\n",
      "        tiempo de vuelo: 36\n",
      "\n",
      "        destino: Marte\n",
      "\n",
      "        tanque externo: 85000\n",
      "\n",
      "        tanque interno: 2500\n",
      "\n",
      "    \n"
     ]
    }
   ],
   "source": [
    "# Función con un informe preciso de la misión. \n",
    "# Considera hora de prelanzamiento,\n",
    "# tiempo de vuelo, destino, tanque externo y tanque interno\n",
    "\n",
    "def report_mission(hour,time,destination,externalTank,internalTank):\n",
    "    message = f\"\"\"\n",
    "        hora de prelanzamiento: {hour}\\n\n",
    "        tiempo de vuelo: {time}\\n\n",
    "        destino: {destination}\\n\n",
    "        tanque externo: {externalTank}\\n\n",
    "        tanque interno: {internalTank}\\n\n",
    "    \"\"\"\n",
    "    return message\n",
    "\n",
    "print(report_mission(25, 36, \"Marte\", 85000, 2500))"
   ]
  },
  {
   "cell_type": "code",
   "execution_count": 14,
   "metadata": {},
   "outputs": [
    {
     "name": "stdout",
     "output_type": "stream",
     "text": [
      "\n",
      "    Mission to Moon\n",
      "    Total travel time: 76 minutes\n",
      "    Total fuel left: 500000\n",
      "    \n"
     ]
    }
   ],
   "source": [
    "# Escribe tu nueva función de reporte considerando lo anterior\n",
    "def report_mission(destination, *minutes, **fuel_reservoirs):\n",
    "    return f\"\"\"\n",
    "    Mission to {destination}\n",
    "    Total travel time: {sum(minutes)} minutes\n",
    "    Total fuel left: {sum(fuel_reservoirs.values())}\n",
    "    \"\"\"\n",
    "\n",
    "print(report_mission(\"Moon\", 10, 15, 51, main=300000, external=200000))"
   ]
  }
 ],
 "metadata": {
  "interpreter": {
   "hash": "2be5faf79681da6f2a61fdfdd5405d65d042280f7fba6178067603e3a2925119"
  },
  "kernelspec": {
   "display_name": "Python 3.10.2 64-bit",
   "language": "python",
   "name": "python3"
  },
  "language_info": {
   "codemirror_mode": {
    "name": "ipython",
    "version": 3
   },
   "file_extension": ".py",
   "mimetype": "text/x-python",
   "name": "python",
   "nbconvert_exporter": "python",
   "pygments_lexer": "ipython3",
   "version": "3.10.2"
  },
  "orig_nbformat": 4
 },
 "nbformat": 4,
 "nbformat_minor": 2
}
