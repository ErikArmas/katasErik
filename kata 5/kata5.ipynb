{
 "cells": [
  {
   "cell_type": "markdown",
   "metadata": {},
   "source": [
    "# Ejercicio1 - Utilizar operadores aritméticos"
   ]
  },
  {
   "cell_type": "code",
   "execution_count": 8,
   "metadata": {},
   "outputs": [
    {
     "name": "stdout",
     "output_type": "stream",
     "text": [
      "La distancia ente ambos planetas es de : 628949330 km\n",
      "La distancia ente ambos planetas es de : 390577533.93 millas\n"
     ]
    }
   ],
   "source": [
    "# Crear variables para almacenar las dos distancias\n",
    "# ¡Asegúrate de quitar las comas!\n",
    "\n",
    "tierra = 149597870 #km \n",
    "jupiter = 778547200 #km\n",
    "\n",
    "# Calcular la distancia entre planetas\n",
    "\n",
    "km = tierra - jupiter \n",
    "\n",
    "milla = km * 0.621\n",
    "\n",
    "print('La distancia ente ambos planetas es de : ' + str(abs(km)) + ' km')\n",
    "print('La distancia ente ambos planetas es de : ' + str(abs(milla)) + ' millas')"
   ]
  },
  {
   "cell_type": "markdown",
   "metadata": {},
   "source": [
    "# Ejercicio 2: convierte cadenas en números y usa valores absolutos"
   ]
  },
  {
   "cell_type": "code",
   "execution_count": 9,
   "metadata": {},
   "outputs": [],
   "source": [
    "# Almacenar las entradas del usuario\n",
    "#Pista: variable = input(\"¿Cuál es tu nombre?\")\n",
    "\n",
    "planetaUno = input('Ingrese la distancia del plantea 1')\n",
    "planetaDos = input('Ingrese la distancia del plantea 2')"
   ]
  },
  {
   "cell_type": "code",
   "execution_count": 10,
   "metadata": {},
   "outputs": [],
   "source": [
    "# Convierte las cadenas de ambos planetas a números enteros\n",
    "planetaUno = int(planetaUno)\n",
    "planetaDos = int(planetaDos)"
   ]
  },
  {
   "cell_type": "code",
   "execution_count": 11,
   "metadata": {},
   "outputs": [
    {
     "name": "stdout",
     "output_type": "stream",
     "text": [
      "La distancia en km es :50300000\n",
      "La distancia en millas es :31236300.0\n"
     ]
    }
   ],
   "source": [
    "# Realizar el cálculo y determinar el valor absoluto\n",
    "# Convertir de KM a Millas\n",
    "\n",
    "distanciaKm = abs(planetaUno - planetaDos)\n",
    "\n",
    "distanciaMillas = abs(planetaUno - planetaDos) * 0.621\n",
    "\n",
    "print('La distancia en km es : ' + str(distanciaKm))\n",
    "print('La distancia en millas es : ' + str(distanciaMillas))\n"
   ]
  }
 ],
 "metadata": {
  "interpreter": {
   "hash": "2be5faf79681da6f2a61fdfdd5405d65d042280f7fba6178067603e3a2925119"
  },
  "kernelspec": {
   "display_name": "Python 3.10.2 64-bit",
   "language": "python",
   "name": "python3"
  },
  "language_info": {
   "codemirror_mode": {
    "name": "ipython",
    "version": 3
   },
   "file_extension": ".py",
   "mimetype": "text/x-python",
   "name": "python",
   "nbconvert_exporter": "python",
   "pygments_lexer": "ipython3",
   "version": "3.10.2"
  },
  "orig_nbformat": 4
 },
 "nbformat": 4,
 "nbformat_minor": 2
}
